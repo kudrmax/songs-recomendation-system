{
 "cells": [
  {
   "cell_type": "code",
   "execution_count": 5,
   "metadata": {
    "collapsed": true
   },
   "outputs": [],
   "source": [
    "import pandas as pd"
   ]
  },
  {
   "cell_type": "code",
   "execution_count": 6,
   "outputs": [],
   "source": [
    "train = pd.read_csv('data/train.csv')\n",
    "sample_submission = pd.read_csv('data/sample_submission.csv')\n",
    "songs = pd.read_csv('data/songs.csv')\n",
    "song_extra_info = pd.read_csv('data/song_extra_info.csv')"
   ],
   "metadata": {
    "collapsed": false
   }
  },
  {
   "cell_type": "code",
   "execution_count": 7,
   "outputs": [
    {
     "data": {
      "text/plain": "                                           msno  \\\n0  FGtllVqz18RPiwJj/edr2gV78zirAiY/9SmYvia+kCg=   \n1  Xumu+NIjS6QYVxDS4/t3SawvJ7viT9hPKXmf0RtLNx8=   \n2  Xumu+NIjS6QYVxDS4/t3SawvJ7viT9hPKXmf0RtLNx8=   \n3  Xumu+NIjS6QYVxDS4/t3SawvJ7viT9hPKXmf0RtLNx8=   \n4  FGtllVqz18RPiwJj/edr2gV78zirAiY/9SmYvia+kCg=   \n\n                                        song_id source_system_tab  \\\n0  BBzumQNXUHKdEBOB7mAJuzok+IJA1c2Ryg/yzTF6tik=           explore   \n1  bhp/MpSNoqoxOIB+/l8WPqu6jldth4DIpCm3ayXnJqM=        my library   \n2  JNWfrrC7zNN7BdMpsISKa4Mw+xVJYNnxXh3/Epw7QgY=        my library   \n3  2A87tzfnJTSWqD7gIZHisolhe4DMdzkbd6LzO1KHjNs=        my library   \n4  3qm6XTZ6MOCU11x8FIVbAGH5l5uMkT3/ZalWG1oo2Gc=           explore   \n\n    source_screen_name      source_type  target  \n0              Explore  online-playlist       1  \n1  Local playlist more   local-playlist       1  \n2  Local playlist more   local-playlist       1  \n3  Local playlist more   local-playlist       1  \n4              Explore  online-playlist       1  ",
      "text/html": "<div>\n<style scoped>\n    .dataframe tbody tr th:only-of-type {\n        vertical-align: middle;\n    }\n\n    .dataframe tbody tr th {\n        vertical-align: top;\n    }\n\n    .dataframe thead th {\n        text-align: right;\n    }\n</style>\n<table border=\"1\" class=\"dataframe\">\n  <thead>\n    <tr style=\"text-align: right;\">\n      <th></th>\n      <th>msno</th>\n      <th>song_id</th>\n      <th>source_system_tab</th>\n      <th>source_screen_name</th>\n      <th>source_type</th>\n      <th>target</th>\n    </tr>\n  </thead>\n  <tbody>\n    <tr>\n      <th>0</th>\n      <td>FGtllVqz18RPiwJj/edr2gV78zirAiY/9SmYvia+kCg=</td>\n      <td>BBzumQNXUHKdEBOB7mAJuzok+IJA1c2Ryg/yzTF6tik=</td>\n      <td>explore</td>\n      <td>Explore</td>\n      <td>online-playlist</td>\n      <td>1</td>\n    </tr>\n    <tr>\n      <th>1</th>\n      <td>Xumu+NIjS6QYVxDS4/t3SawvJ7viT9hPKXmf0RtLNx8=</td>\n      <td>bhp/MpSNoqoxOIB+/l8WPqu6jldth4DIpCm3ayXnJqM=</td>\n      <td>my library</td>\n      <td>Local playlist more</td>\n      <td>local-playlist</td>\n      <td>1</td>\n    </tr>\n    <tr>\n      <th>2</th>\n      <td>Xumu+NIjS6QYVxDS4/t3SawvJ7viT9hPKXmf0RtLNx8=</td>\n      <td>JNWfrrC7zNN7BdMpsISKa4Mw+xVJYNnxXh3/Epw7QgY=</td>\n      <td>my library</td>\n      <td>Local playlist more</td>\n      <td>local-playlist</td>\n      <td>1</td>\n    </tr>\n    <tr>\n      <th>3</th>\n      <td>Xumu+NIjS6QYVxDS4/t3SawvJ7viT9hPKXmf0RtLNx8=</td>\n      <td>2A87tzfnJTSWqD7gIZHisolhe4DMdzkbd6LzO1KHjNs=</td>\n      <td>my library</td>\n      <td>Local playlist more</td>\n      <td>local-playlist</td>\n      <td>1</td>\n    </tr>\n    <tr>\n      <th>4</th>\n      <td>FGtllVqz18RPiwJj/edr2gV78zirAiY/9SmYvia+kCg=</td>\n      <td>3qm6XTZ6MOCU11x8FIVbAGH5l5uMkT3/ZalWG1oo2Gc=</td>\n      <td>explore</td>\n      <td>Explore</td>\n      <td>online-playlist</td>\n      <td>1</td>\n    </tr>\n  </tbody>\n</table>\n</div>"
     },
     "execution_count": 7,
     "metadata": {},
     "output_type": "execute_result"
    }
   ],
   "source": [
    "train.head()"
   ],
   "metadata": {
    "collapsed": false
   }
  },
  {
   "cell_type": "code",
   "execution_count": 8,
   "outputs": [
    {
     "data": {
      "text/plain": "                                        song_id  song_length genre_ids  \\\n0  CXoTN1eb7AI+DntdU1vbcwGRV4SCIDxZu+YD8JP8r4E=       247640       465   \n1  o0kFgae9QtnYgRkVPqLJwa05zIhRlUjfF7O1tDw0ZDU=       197328       444   \n2  DwVvVurfpuz+XPuFvucclVQEyPqcpUkHR0ne1RQzPs0=       231781       465   \n3  dKMBWoZyScdxSkihKG+Vf47nc18N9q4m58+b4e7dSSE=       273554       465   \n4  W3bqWd3T+VeHFzHAUfARgW9AvVRaF4N5Yzm4Mr6Eo/o=       140329       726   \n\n        artist_name                            composer     lyricist  language  \n0  張信哲 (Jeff Chang)                                  董貞          何啟弘       3.0  \n1         BLACKPINK  TEDDY|  FUTURE BOUNCE|  Bekuh BOOM        TEDDY      31.0  \n2      SUPER JUNIOR                                 NaN          NaN      31.0  \n3             S.H.E                                 湯小康          徐世珍       3.0  \n4              貴族精選                         Traditional  Traditional      52.0  ",
      "text/html": "<div>\n<style scoped>\n    .dataframe tbody tr th:only-of-type {\n        vertical-align: middle;\n    }\n\n    .dataframe tbody tr th {\n        vertical-align: top;\n    }\n\n    .dataframe thead th {\n        text-align: right;\n    }\n</style>\n<table border=\"1\" class=\"dataframe\">\n  <thead>\n    <tr style=\"text-align: right;\">\n      <th></th>\n      <th>song_id</th>\n      <th>song_length</th>\n      <th>genre_ids</th>\n      <th>artist_name</th>\n      <th>composer</th>\n      <th>lyricist</th>\n      <th>language</th>\n    </tr>\n  </thead>\n  <tbody>\n    <tr>\n      <th>0</th>\n      <td>CXoTN1eb7AI+DntdU1vbcwGRV4SCIDxZu+YD8JP8r4E=</td>\n      <td>247640</td>\n      <td>465</td>\n      <td>張信哲 (Jeff Chang)</td>\n      <td>董貞</td>\n      <td>何啟弘</td>\n      <td>3.0</td>\n    </tr>\n    <tr>\n      <th>1</th>\n      <td>o0kFgae9QtnYgRkVPqLJwa05zIhRlUjfF7O1tDw0ZDU=</td>\n      <td>197328</td>\n      <td>444</td>\n      <td>BLACKPINK</td>\n      <td>TEDDY|  FUTURE BOUNCE|  Bekuh BOOM</td>\n      <td>TEDDY</td>\n      <td>31.0</td>\n    </tr>\n    <tr>\n      <th>2</th>\n      <td>DwVvVurfpuz+XPuFvucclVQEyPqcpUkHR0ne1RQzPs0=</td>\n      <td>231781</td>\n      <td>465</td>\n      <td>SUPER JUNIOR</td>\n      <td>NaN</td>\n      <td>NaN</td>\n      <td>31.0</td>\n    </tr>\n    <tr>\n      <th>3</th>\n      <td>dKMBWoZyScdxSkihKG+Vf47nc18N9q4m58+b4e7dSSE=</td>\n      <td>273554</td>\n      <td>465</td>\n      <td>S.H.E</td>\n      <td>湯小康</td>\n      <td>徐世珍</td>\n      <td>3.0</td>\n    </tr>\n    <tr>\n      <th>4</th>\n      <td>W3bqWd3T+VeHFzHAUfARgW9AvVRaF4N5Yzm4Mr6Eo/o=</td>\n      <td>140329</td>\n      <td>726</td>\n      <td>貴族精選</td>\n      <td>Traditional</td>\n      <td>Traditional</td>\n      <td>52.0</td>\n    </tr>\n  </tbody>\n</table>\n</div>"
     },
     "execution_count": 8,
     "metadata": {},
     "output_type": "execute_result"
    }
   ],
   "source": [
    "songs.head()"
   ],
   "metadata": {
    "collapsed": false
   }
  },
  {
   "cell_type": "code",
   "execution_count": 12,
   "outputs": [
    {
     "data": {
      "text/plain": "                                        song_id             name          isrc\n0  LP7pLJoJFBvyuUwvu+oLzjT+bI+UeBPURCecJsX1jjs=               我們  TWUM71200043\n1  ClazTFnk6r0Bnuie44bocdNMM3rdlrq0bCGAsGUWcHE=  Let Me Love You  QMZSY1600015\n2  u2ja/bZE3zhCGxvbbOB3zOoUjx27u40cf5g09UXMoKQ=              原諒我  TWA530887303\n3  92Fqsy0+p6+RHe2EoLKjHahORHR1Kq1TBJoClW9v+Ts=          Classic  USSM11301446\n4  0QFmz/+rJy1Q56C1DuYqT9hKKqi5TUqx0sN0IwvoHrw=             愛投羅網  TWA471306001",
      "text/html": "<div>\n<style scoped>\n    .dataframe tbody tr th:only-of-type {\n        vertical-align: middle;\n    }\n\n    .dataframe tbody tr th {\n        vertical-align: top;\n    }\n\n    .dataframe thead th {\n        text-align: right;\n    }\n</style>\n<table border=\"1\" class=\"dataframe\">\n  <thead>\n    <tr style=\"text-align: right;\">\n      <th></th>\n      <th>song_id</th>\n      <th>name</th>\n      <th>isrc</th>\n    </tr>\n  </thead>\n  <tbody>\n    <tr>\n      <th>0</th>\n      <td>LP7pLJoJFBvyuUwvu+oLzjT+bI+UeBPURCecJsX1jjs=</td>\n      <td>我們</td>\n      <td>TWUM71200043</td>\n    </tr>\n    <tr>\n      <th>1</th>\n      <td>ClazTFnk6r0Bnuie44bocdNMM3rdlrq0bCGAsGUWcHE=</td>\n      <td>Let Me Love You</td>\n      <td>QMZSY1600015</td>\n    </tr>\n    <tr>\n      <th>2</th>\n      <td>u2ja/bZE3zhCGxvbbOB3zOoUjx27u40cf5g09UXMoKQ=</td>\n      <td>原諒我</td>\n      <td>TWA530887303</td>\n    </tr>\n    <tr>\n      <th>3</th>\n      <td>92Fqsy0+p6+RHe2EoLKjHahORHR1Kq1TBJoClW9v+Ts=</td>\n      <td>Classic</td>\n      <td>USSM11301446</td>\n    </tr>\n    <tr>\n      <th>4</th>\n      <td>0QFmz/+rJy1Q56C1DuYqT9hKKqi5TUqx0sN0IwvoHrw=</td>\n      <td>愛投羅網</td>\n      <td>TWA471306001</td>\n    </tr>\n  </tbody>\n</table>\n</div>"
     },
     "execution_count": 12,
     "metadata": {},
     "output_type": "execute_result"
    }
   ],
   "source": [
    "song_extra_info.head()"
   ],
   "metadata": {
    "collapsed": false
   }
  },
  {
   "cell_type": "code",
   "execution_count": 15,
   "outputs": [
    {
     "data": {
      "text/plain": "   id  target\n0   0     0.5\n1   1     0.5\n2   2     0.5\n3   3     0.5\n4   4     0.5",
      "text/html": "<div>\n<style scoped>\n    .dataframe tbody tr th:only-of-type {\n        vertical-align: middle;\n    }\n\n    .dataframe tbody tr th {\n        vertical-align: top;\n    }\n\n    .dataframe thead th {\n        text-align: right;\n    }\n</style>\n<table border=\"1\" class=\"dataframe\">\n  <thead>\n    <tr style=\"text-align: right;\">\n      <th></th>\n      <th>id</th>\n      <th>target</th>\n    </tr>\n  </thead>\n  <tbody>\n    <tr>\n      <th>0</th>\n      <td>0</td>\n      <td>0.5</td>\n    </tr>\n    <tr>\n      <th>1</th>\n      <td>1</td>\n      <td>0.5</td>\n    </tr>\n    <tr>\n      <th>2</th>\n      <td>2</td>\n      <td>0.5</td>\n    </tr>\n    <tr>\n      <th>3</th>\n      <td>3</td>\n      <td>0.5</td>\n    </tr>\n    <tr>\n      <th>4</th>\n      <td>4</td>\n      <td>0.5</td>\n    </tr>\n  </tbody>\n</table>\n</div>"
     },
     "execution_count": 15,
     "metadata": {},
     "output_type": "execute_result"
    }
   ],
   "source": [
    "sample_submission.head()"
   ],
   "metadata": {
    "collapsed": false
   }
  },
  {
   "cell_type": "code",
   "execution_count": 11,
   "outputs": [
    {
     "data": {
      "text/plain": "                                           msno  \\\n0  FGtllVqz18RPiwJj/edr2gV78zirAiY/9SmYvia+kCg=   \n1  Xumu+NIjS6QYVxDS4/t3SawvJ7viT9hPKXmf0RtLNx8=   \n2  Xumu+NIjS6QYVxDS4/t3SawvJ7viT9hPKXmf0RtLNx8=   \n3  Xumu+NIjS6QYVxDS4/t3SawvJ7viT9hPKXmf0RtLNx8=   \n4  FGtllVqz18RPiwJj/edr2gV78zirAiY/9SmYvia+kCg=   \n\n                                        song_id source_system_tab  \\\n0  BBzumQNXUHKdEBOB7mAJuzok+IJA1c2Ryg/yzTF6tik=           explore   \n1  bhp/MpSNoqoxOIB+/l8WPqu6jldth4DIpCm3ayXnJqM=        my library   \n2  JNWfrrC7zNN7BdMpsISKa4Mw+xVJYNnxXh3/Epw7QgY=        my library   \n3  2A87tzfnJTSWqD7gIZHisolhe4DMdzkbd6LzO1KHjNs=        my library   \n4  3qm6XTZ6MOCU11x8FIVbAGH5l5uMkT3/ZalWG1oo2Gc=           explore   \n\n    source_screen_name      source_type  target  song_length genre_ids  \\\n0              Explore  online-playlist       1     206471.0       359   \n1  Local playlist more   local-playlist       1     284584.0      1259   \n2  Local playlist more   local-playlist       1     225396.0      1259   \n3  Local playlist more   local-playlist       1     255512.0      1019   \n4              Explore  online-playlist       1     187802.0      1011   \n\n       artist_name                                 composer lyricist  language  \n0         Bastille                     Dan Smith| Mark Crew      NaN      52.0  \n1  Various Artists                                      NaN      NaN      52.0  \n2              Nas     N. Jones、W. Adams、J. Lordan、D. Ingle      NaN      52.0  \n3         Soundway                            Kwadwo Donkoh      NaN      -1.0  \n4      Brett Young  Brett Young| Kelly Archer| Justin Ebach      NaN      52.0  ",
      "text/html": "<div>\n<style scoped>\n    .dataframe tbody tr th:only-of-type {\n        vertical-align: middle;\n    }\n\n    .dataframe tbody tr th {\n        vertical-align: top;\n    }\n\n    .dataframe thead th {\n        text-align: right;\n    }\n</style>\n<table border=\"1\" class=\"dataframe\">\n  <thead>\n    <tr style=\"text-align: right;\">\n      <th></th>\n      <th>msno</th>\n      <th>song_id</th>\n      <th>source_system_tab</th>\n      <th>source_screen_name</th>\n      <th>source_type</th>\n      <th>target</th>\n      <th>song_length</th>\n      <th>genre_ids</th>\n      <th>artist_name</th>\n      <th>composer</th>\n      <th>lyricist</th>\n      <th>language</th>\n    </tr>\n  </thead>\n  <tbody>\n    <tr>\n      <th>0</th>\n      <td>FGtllVqz18RPiwJj/edr2gV78zirAiY/9SmYvia+kCg=</td>\n      <td>BBzumQNXUHKdEBOB7mAJuzok+IJA1c2Ryg/yzTF6tik=</td>\n      <td>explore</td>\n      <td>Explore</td>\n      <td>online-playlist</td>\n      <td>1</td>\n      <td>206471.0</td>\n      <td>359</td>\n      <td>Bastille</td>\n      <td>Dan Smith| Mark Crew</td>\n      <td>NaN</td>\n      <td>52.0</td>\n    </tr>\n    <tr>\n      <th>1</th>\n      <td>Xumu+NIjS6QYVxDS4/t3SawvJ7viT9hPKXmf0RtLNx8=</td>\n      <td>bhp/MpSNoqoxOIB+/l8WPqu6jldth4DIpCm3ayXnJqM=</td>\n      <td>my library</td>\n      <td>Local playlist more</td>\n      <td>local-playlist</td>\n      <td>1</td>\n      <td>284584.0</td>\n      <td>1259</td>\n      <td>Various Artists</td>\n      <td>NaN</td>\n      <td>NaN</td>\n      <td>52.0</td>\n    </tr>\n    <tr>\n      <th>2</th>\n      <td>Xumu+NIjS6QYVxDS4/t3SawvJ7viT9hPKXmf0RtLNx8=</td>\n      <td>JNWfrrC7zNN7BdMpsISKa4Mw+xVJYNnxXh3/Epw7QgY=</td>\n      <td>my library</td>\n      <td>Local playlist more</td>\n      <td>local-playlist</td>\n      <td>1</td>\n      <td>225396.0</td>\n      <td>1259</td>\n      <td>Nas</td>\n      <td>N. Jones、W. Adams、J. Lordan、D. Ingle</td>\n      <td>NaN</td>\n      <td>52.0</td>\n    </tr>\n    <tr>\n      <th>3</th>\n      <td>Xumu+NIjS6QYVxDS4/t3SawvJ7viT9hPKXmf0RtLNx8=</td>\n      <td>2A87tzfnJTSWqD7gIZHisolhe4DMdzkbd6LzO1KHjNs=</td>\n      <td>my library</td>\n      <td>Local playlist more</td>\n      <td>local-playlist</td>\n      <td>1</td>\n      <td>255512.0</td>\n      <td>1019</td>\n      <td>Soundway</td>\n      <td>Kwadwo Donkoh</td>\n      <td>NaN</td>\n      <td>-1.0</td>\n    </tr>\n    <tr>\n      <th>4</th>\n      <td>FGtllVqz18RPiwJj/edr2gV78zirAiY/9SmYvia+kCg=</td>\n      <td>3qm6XTZ6MOCU11x8FIVbAGH5l5uMkT3/ZalWG1oo2Gc=</td>\n      <td>explore</td>\n      <td>Explore</td>\n      <td>online-playlist</td>\n      <td>1</td>\n      <td>187802.0</td>\n      <td>1011</td>\n      <td>Brett Young</td>\n      <td>Brett Young| Kelly Archer| Justin Ebach</td>\n      <td>NaN</td>\n      <td>52.0</td>\n    </tr>\n  </tbody>\n</table>\n</div>"
     },
     "execution_count": 11,
     "metadata": {},
     "output_type": "execute_result"
    }
   ],
   "source": [
    "data = train.merge(songs, on='song_id', how='left')\n",
    "data.head()"
   ],
   "metadata": {
    "collapsed": false
   }
  },
  {
   "cell_type": "code",
   "execution_count": 13,
   "outputs": [
    {
     "data": {
      "text/plain": "                                           msno  \\\n0  FGtllVqz18RPiwJj/edr2gV78zirAiY/9SmYvia+kCg=   \n1  Xumu+NIjS6QYVxDS4/t3SawvJ7viT9hPKXmf0RtLNx8=   \n2  Xumu+NIjS6QYVxDS4/t3SawvJ7viT9hPKXmf0RtLNx8=   \n3  Xumu+NIjS6QYVxDS4/t3SawvJ7viT9hPKXmf0RtLNx8=   \n4  FGtllVqz18RPiwJj/edr2gV78zirAiY/9SmYvia+kCg=   \n\n                                        song_id source_system_tab  \\\n0  BBzumQNXUHKdEBOB7mAJuzok+IJA1c2Ryg/yzTF6tik=           explore   \n1  bhp/MpSNoqoxOIB+/l8WPqu6jldth4DIpCm3ayXnJqM=        my library   \n2  JNWfrrC7zNN7BdMpsISKa4Mw+xVJYNnxXh3/Epw7QgY=        my library   \n3  2A87tzfnJTSWqD7gIZHisolhe4DMdzkbd6LzO1KHjNs=        my library   \n4  3qm6XTZ6MOCU11x8FIVbAGH5l5uMkT3/ZalWG1oo2Gc=           explore   \n\n    source_screen_name      source_type  target  song_length genre_ids  \\\n0              Explore  online-playlist       1     206471.0       359   \n1  Local playlist more   local-playlist       1     284584.0      1259   \n2  Local playlist more   local-playlist       1     225396.0      1259   \n3  Local playlist more   local-playlist       1     255512.0      1019   \n4              Explore  online-playlist       1     187802.0      1011   \n\n       artist_name                                 composer lyricist  \\\n0         Bastille                     Dan Smith| Mark Crew      NaN   \n1  Various Artists                                      NaN      NaN   \n2              Nas     N. Jones、W. Adams、J. Lordan、D. Ingle      NaN   \n3         Soundway                            Kwadwo Donkoh      NaN   \n4      Brett Young  Brett Young| Kelly Archer| Justin Ebach      NaN   \n\n   language                                     name          isrc  \n0      52.0                               Good Grief  GBUM71602854  \n1      52.0                       Lords of Cardboard  US3C69910183  \n2      52.0  Hip Hop Is Dead(Album Version (Edited))  USUM70618761  \n3      -1.0                             Disco Africa  GBUQH1000063  \n4      52.0                        Sleep Without You  QM3E21606003  ",
      "text/html": "<div>\n<style scoped>\n    .dataframe tbody tr th:only-of-type {\n        vertical-align: middle;\n    }\n\n    .dataframe tbody tr th {\n        vertical-align: top;\n    }\n\n    .dataframe thead th {\n        text-align: right;\n    }\n</style>\n<table border=\"1\" class=\"dataframe\">\n  <thead>\n    <tr style=\"text-align: right;\">\n      <th></th>\n      <th>msno</th>\n      <th>song_id</th>\n      <th>source_system_tab</th>\n      <th>source_screen_name</th>\n      <th>source_type</th>\n      <th>target</th>\n      <th>song_length</th>\n      <th>genre_ids</th>\n      <th>artist_name</th>\n      <th>composer</th>\n      <th>lyricist</th>\n      <th>language</th>\n      <th>name</th>\n      <th>isrc</th>\n    </tr>\n  </thead>\n  <tbody>\n    <tr>\n      <th>0</th>\n      <td>FGtllVqz18RPiwJj/edr2gV78zirAiY/9SmYvia+kCg=</td>\n      <td>BBzumQNXUHKdEBOB7mAJuzok+IJA1c2Ryg/yzTF6tik=</td>\n      <td>explore</td>\n      <td>Explore</td>\n      <td>online-playlist</td>\n      <td>1</td>\n      <td>206471.0</td>\n      <td>359</td>\n      <td>Bastille</td>\n      <td>Dan Smith| Mark Crew</td>\n      <td>NaN</td>\n      <td>52.0</td>\n      <td>Good Grief</td>\n      <td>GBUM71602854</td>\n    </tr>\n    <tr>\n      <th>1</th>\n      <td>Xumu+NIjS6QYVxDS4/t3SawvJ7viT9hPKXmf0RtLNx8=</td>\n      <td>bhp/MpSNoqoxOIB+/l8WPqu6jldth4DIpCm3ayXnJqM=</td>\n      <td>my library</td>\n      <td>Local playlist more</td>\n      <td>local-playlist</td>\n      <td>1</td>\n      <td>284584.0</td>\n      <td>1259</td>\n      <td>Various Artists</td>\n      <td>NaN</td>\n      <td>NaN</td>\n      <td>52.0</td>\n      <td>Lords of Cardboard</td>\n      <td>US3C69910183</td>\n    </tr>\n    <tr>\n      <th>2</th>\n      <td>Xumu+NIjS6QYVxDS4/t3SawvJ7viT9hPKXmf0RtLNx8=</td>\n      <td>JNWfrrC7zNN7BdMpsISKa4Mw+xVJYNnxXh3/Epw7QgY=</td>\n      <td>my library</td>\n      <td>Local playlist more</td>\n      <td>local-playlist</td>\n      <td>1</td>\n      <td>225396.0</td>\n      <td>1259</td>\n      <td>Nas</td>\n      <td>N. Jones、W. Adams、J. Lordan、D. Ingle</td>\n      <td>NaN</td>\n      <td>52.0</td>\n      <td>Hip Hop Is Dead(Album Version (Edited))</td>\n      <td>USUM70618761</td>\n    </tr>\n    <tr>\n      <th>3</th>\n      <td>Xumu+NIjS6QYVxDS4/t3SawvJ7viT9hPKXmf0RtLNx8=</td>\n      <td>2A87tzfnJTSWqD7gIZHisolhe4DMdzkbd6LzO1KHjNs=</td>\n      <td>my library</td>\n      <td>Local playlist more</td>\n      <td>local-playlist</td>\n      <td>1</td>\n      <td>255512.0</td>\n      <td>1019</td>\n      <td>Soundway</td>\n      <td>Kwadwo Donkoh</td>\n      <td>NaN</td>\n      <td>-1.0</td>\n      <td>Disco Africa</td>\n      <td>GBUQH1000063</td>\n    </tr>\n    <tr>\n      <th>4</th>\n      <td>FGtllVqz18RPiwJj/edr2gV78zirAiY/9SmYvia+kCg=</td>\n      <td>3qm6XTZ6MOCU11x8FIVbAGH5l5uMkT3/ZalWG1oo2Gc=</td>\n      <td>explore</td>\n      <td>Explore</td>\n      <td>online-playlist</td>\n      <td>1</td>\n      <td>187802.0</td>\n      <td>1011</td>\n      <td>Brett Young</td>\n      <td>Brett Young| Kelly Archer| Justin Ebach</td>\n      <td>NaN</td>\n      <td>52.0</td>\n      <td>Sleep Without You</td>\n      <td>QM3E21606003</td>\n    </tr>\n  </tbody>\n</table>\n</div>"
     },
     "execution_count": 13,
     "metadata": {},
     "output_type": "execute_result"
    }
   ],
   "source": [
    "data = data.merge(song_extra_info, on='song_id', how='left')\n",
    "data.head()"
   ],
   "metadata": {
    "collapsed": false
   }
  },
  {
   "cell_type": "code",
   "execution_count": null,
   "outputs": [],
   "source": [],
   "metadata": {
    "collapsed": false
   }
  }
 ],
 "metadata": {
  "kernelspec": {
   "display_name": "Python 3",
   "language": "python",
   "name": "python3"
  },
  "language_info": {
   "codemirror_mode": {
    "name": "ipython",
    "version": 2
   },
   "file_extension": ".py",
   "mimetype": "text/x-python",
   "name": "python",
   "nbconvert_exporter": "python",
   "pygments_lexer": "ipython2",
   "version": "2.7.6"
  }
 },
 "nbformat": 4,
 "nbformat_minor": 0
}
