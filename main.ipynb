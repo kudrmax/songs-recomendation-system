{
 "cells": [
  {
   "cell_type": "code",
   "execution_count": 2,
   "metadata": {
    "collapsed": true
   },
   "outputs": [],
   "source": [
    "import pandas as pd"
   ]
  },
  {
   "cell_type": "code",
   "execution_count": 6,
   "outputs": [],
   "source": [
    "data_train = pd.read_csv('data/train.csv')"
   ],
   "metadata": {
    "collapsed": false
   }
  },
  {
   "cell_type": "code",
   "execution_count": 7,
   "outputs": [],
   "source": [
    "data_test = pd.read_csv('data/test.csv')"
   ],
   "metadata": {
    "collapsed": false
   }
  },
  {
   "cell_type": "code",
   "execution_count": 8,
   "outputs": [],
   "source": [
    "songs = pd.read_csv('data/songs.csv')"
   ],
   "metadata": {
    "collapsed": false
   }
  },
  {
   "cell_type": "code",
   "execution_count": 9,
   "outputs": [
    {
     "data": {
      "text/plain": "                                                 msno  \\\n0        FGtllVqz18RPiwJj/edr2gV78zirAiY/9SmYvia+kCg=   \n1        Xumu+NIjS6QYVxDS4/t3SawvJ7viT9hPKXmf0RtLNx8=   \n2        Xumu+NIjS6QYVxDS4/t3SawvJ7viT9hPKXmf0RtLNx8=   \n3        Xumu+NIjS6QYVxDS4/t3SawvJ7viT9hPKXmf0RtLNx8=   \n4        FGtllVqz18RPiwJj/edr2gV78zirAiY/9SmYvia+kCg=   \n...                                               ...   \n7377413  6xdFzPlrasIDD95mQWXVC3Bg4ptnGYtBl4ztVEZMddU=   \n7377414  ZxbVmt3Kh/XOH+h58c2Kdj6SjFZk+wnUO006IgWzMQE=   \n7377415  ZxbVmt3Kh/XOH+h58c2Kdj6SjFZk+wnUO006IgWzMQE=   \n7377416  0aH4Hd3ziPSRHClRX8rkeOEaAG5EPPkW1mKGCdXEok0=   \n7377417  0aH4Hd3ziPSRHClRX8rkeOEaAG5EPPkW1mKGCdXEok0=   \n\n                                              song_id source_system_tab  \\\n0        BBzumQNXUHKdEBOB7mAJuzok+IJA1c2Ryg/yzTF6tik=           explore   \n1        bhp/MpSNoqoxOIB+/l8WPqu6jldth4DIpCm3ayXnJqM=        my library   \n2        JNWfrrC7zNN7BdMpsISKa4Mw+xVJYNnxXh3/Epw7QgY=        my library   \n3        2A87tzfnJTSWqD7gIZHisolhe4DMdzkbd6LzO1KHjNs=        my library   \n4        3qm6XTZ6MOCU11x8FIVbAGH5l5uMkT3/ZalWG1oo2Gc=           explore   \n...                                               ...               ...   \n7377413  VJTxizih/o28kXCbtPbIyWXScoXGvxyYtl6R+0YB5JM=        my library   \n7377414  z1mqaU9YOX7T/PFDvUoWozdFq7rC3KwaQP7nFVprjMI=            search   \n7377415  750RprmFfLV0bymtDH88g24pLZGVi5VpBAI300P6UOA=            search   \n7377416  G8wgqObgeAMER/rVCIlgcNeQ8mm0CzF/GsxiMK8TTnA=          discover   \n7377417  Ju0VGkjWeBUZCd7r5Az2hUImhMoWxWLUicOedsmvG0g=          discover   \n\n          source_screen_name      source_type  target  \n0                    Explore  online-playlist       1  \n1        Local playlist more   local-playlist       1  \n2        Local playlist more   local-playlist       1  \n3        Local playlist more   local-playlist       1  \n4                    Explore  online-playlist       1  \n...                      ...              ...     ...  \n7377413  Local playlist more   local-playlist       1  \n7377414               Search             song       0  \n7377415               Search             song       1  \n7377416       Discover Genre  online-playlist       1  \n7377417       Discover Genre  online-playlist       1  \n\n[7377418 rows x 6 columns]",
      "text/html": "<div>\n<style scoped>\n    .dataframe tbody tr th:only-of-type {\n        vertical-align: middle;\n    }\n\n    .dataframe tbody tr th {\n        vertical-align: top;\n    }\n\n    .dataframe thead th {\n        text-align: right;\n    }\n</style>\n<table border=\"1\" class=\"dataframe\">\n  <thead>\n    <tr style=\"text-align: right;\">\n      <th></th>\n      <th>msno</th>\n      <th>song_id</th>\n      <th>source_system_tab</th>\n      <th>source_screen_name</th>\n      <th>source_type</th>\n      <th>target</th>\n    </tr>\n  </thead>\n  <tbody>\n    <tr>\n      <th>0</th>\n      <td>FGtllVqz18RPiwJj/edr2gV78zirAiY/9SmYvia+kCg=</td>\n      <td>BBzumQNXUHKdEBOB7mAJuzok+IJA1c2Ryg/yzTF6tik=</td>\n      <td>explore</td>\n      <td>Explore</td>\n      <td>online-playlist</td>\n      <td>1</td>\n    </tr>\n    <tr>\n      <th>1</th>\n      <td>Xumu+NIjS6QYVxDS4/t3SawvJ7viT9hPKXmf0RtLNx8=</td>\n      <td>bhp/MpSNoqoxOIB+/l8WPqu6jldth4DIpCm3ayXnJqM=</td>\n      <td>my library</td>\n      <td>Local playlist more</td>\n      <td>local-playlist</td>\n      <td>1</td>\n    </tr>\n    <tr>\n      <th>2</th>\n      <td>Xumu+NIjS6QYVxDS4/t3SawvJ7viT9hPKXmf0RtLNx8=</td>\n      <td>JNWfrrC7zNN7BdMpsISKa4Mw+xVJYNnxXh3/Epw7QgY=</td>\n      <td>my library</td>\n      <td>Local playlist more</td>\n      <td>local-playlist</td>\n      <td>1</td>\n    </tr>\n    <tr>\n      <th>3</th>\n      <td>Xumu+NIjS6QYVxDS4/t3SawvJ7viT9hPKXmf0RtLNx8=</td>\n      <td>2A87tzfnJTSWqD7gIZHisolhe4DMdzkbd6LzO1KHjNs=</td>\n      <td>my library</td>\n      <td>Local playlist more</td>\n      <td>local-playlist</td>\n      <td>1</td>\n    </tr>\n    <tr>\n      <th>4</th>\n      <td>FGtllVqz18RPiwJj/edr2gV78zirAiY/9SmYvia+kCg=</td>\n      <td>3qm6XTZ6MOCU11x8FIVbAGH5l5uMkT3/ZalWG1oo2Gc=</td>\n      <td>explore</td>\n      <td>Explore</td>\n      <td>online-playlist</td>\n      <td>1</td>\n    </tr>\n    <tr>\n      <th>...</th>\n      <td>...</td>\n      <td>...</td>\n      <td>...</td>\n      <td>...</td>\n      <td>...</td>\n      <td>...</td>\n    </tr>\n    <tr>\n      <th>7377413</th>\n      <td>6xdFzPlrasIDD95mQWXVC3Bg4ptnGYtBl4ztVEZMddU=</td>\n      <td>VJTxizih/o28kXCbtPbIyWXScoXGvxyYtl6R+0YB5JM=</td>\n      <td>my library</td>\n      <td>Local playlist more</td>\n      <td>local-playlist</td>\n      <td>1</td>\n    </tr>\n    <tr>\n      <th>7377414</th>\n      <td>ZxbVmt3Kh/XOH+h58c2Kdj6SjFZk+wnUO006IgWzMQE=</td>\n      <td>z1mqaU9YOX7T/PFDvUoWozdFq7rC3KwaQP7nFVprjMI=</td>\n      <td>search</td>\n      <td>Search</td>\n      <td>song</td>\n      <td>0</td>\n    </tr>\n    <tr>\n      <th>7377415</th>\n      <td>ZxbVmt3Kh/XOH+h58c2Kdj6SjFZk+wnUO006IgWzMQE=</td>\n      <td>750RprmFfLV0bymtDH88g24pLZGVi5VpBAI300P6UOA=</td>\n      <td>search</td>\n      <td>Search</td>\n      <td>song</td>\n      <td>1</td>\n    </tr>\n    <tr>\n      <th>7377416</th>\n      <td>0aH4Hd3ziPSRHClRX8rkeOEaAG5EPPkW1mKGCdXEok0=</td>\n      <td>G8wgqObgeAMER/rVCIlgcNeQ8mm0CzF/GsxiMK8TTnA=</td>\n      <td>discover</td>\n      <td>Discover Genre</td>\n      <td>online-playlist</td>\n      <td>1</td>\n    </tr>\n    <tr>\n      <th>7377417</th>\n      <td>0aH4Hd3ziPSRHClRX8rkeOEaAG5EPPkW1mKGCdXEok0=</td>\n      <td>Ju0VGkjWeBUZCd7r5Az2hUImhMoWxWLUicOedsmvG0g=</td>\n      <td>discover</td>\n      <td>Discover Genre</td>\n      <td>online-playlist</td>\n      <td>1</td>\n    </tr>\n  </tbody>\n</table>\n<p>7377418 rows × 6 columns</p>\n</div>"
     },
     "execution_count": 9,
     "metadata": {},
     "output_type": "execute_result"
    }
   ],
   "source": [
    "data_train"
   ],
   "metadata": {
    "collapsed": false
   }
  },
  {
   "cell_type": "code",
   "execution_count": null,
   "outputs": [],
   "source": [],
   "metadata": {
    "collapsed": false
   }
  }
 ],
 "metadata": {
  "kernelspec": {
   "display_name": "Python 3",
   "language": "python",
   "name": "python3"
  },
  "language_info": {
   "codemirror_mode": {
    "name": "ipython",
    "version": 2
   },
   "file_extension": ".py",
   "mimetype": "text/x-python",
   "name": "python",
   "nbconvert_exporter": "python",
   "pygments_lexer": "ipython2",
   "version": "2.7.6"
  }
 },
 "nbformat": 4,
 "nbformat_minor": 0
}
